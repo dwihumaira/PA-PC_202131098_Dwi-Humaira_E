{
 "cells": [
  {
   "cell_type": "code",
   "execution_count": 1,
   "id": "37f74051",
   "metadata": {},
   "outputs": [],
   "source": [
    "import cv2"
   ]
  },
  {
   "cell_type": "code",
   "execution_count": 9,
   "id": "24e0a02c",
   "metadata": {},
   "outputs": [],
   "source": [
    "gambar = cv2.imread(\"jalan3.jpg\")"
   ]
  },
  {
   "cell_type": "code",
   "execution_count": 10,
   "id": "2a2ed1a8",
   "metadata": {},
   "outputs": [],
   "source": [
    "cv2.imshow(\"jalan\",gambar)\n",
    "cv2.waitKey(0)\n",
    "cv2.destroyAllWindows()"
   ]
  },
  {
   "cell_type": "code",
   "execution_count": 26,
   "id": "d9afa993",
   "metadata": {},
   "outputs": [],
   "source": [
    "import cv2\n",
    "import numpy as np\n",
    "\n",
    "# Fungsi untuk mendeteksi marka jalan\n",
    "def detect_lane_markings(image):\n",
    "    # Konversi gambar ke ruang warna keabuan\n",
    "    gray = cv2.cvtColor(image, cv2.COLOR_BGR2GRAY)\n",
    "    \n",
    "    # Reduksi noise menggunakan metode Gaussian blur\n",
    "    blurred = cv2.GaussianBlur(gray, (5, 5), 0)\n",
    "    \n",
    "    # Deteksi tepi menggunakan metode Canny edge detection\n",
    "    edges = cv2.Canny(blurred, 50, 150)\n",
    "    \n",
    "    # Threshold untuk mencari garis menggunakan metode HoughLinesP\n",
    "    lines = cv2.HoughLinesP(edges, 1, np.pi/180, threshold=100, minLineLength=100, maxLineGap=50)\n",
    "    \n",
    "    # Menggambar garis deteksi pada gambar asli\n",
    "    for line in lines:\n",
    "        x1, y1, x2, y2 = line[0]\n",
    "        cv2.line(image, (x1, y1), (x2, y2), (0, 0, 255), 3)\n",
    "    \n",
    "    return image\n",
    "\n",
    "# Baca gambar\n",
    "image = cv2.imread('jalan 3.jpg')\n",
    "\n",
    "# Deteksi marka jalan\n",
    "result = detect_lane_markings(image)\n",
    "\n",
    "# Tampilkan hasil\n",
    "cv2.imshow('Lane Markings Detection', result)\n",
    "cv2.waitKey(0)\n",
    "cv2.destroyAllWindows()\n",
    "\n"
   ]
  },
  {
   "cell_type": "code",
   "execution_count": null,
   "id": "fa317cfa",
   "metadata": {},
   "outputs": [],
   "source": []
  }
 ],
 "metadata": {
  "kernelspec": {
   "display_name": "Python 3 (ipykernel)",
   "language": "python",
   "name": "python3"
  },
  "language_info": {
   "codemirror_mode": {
    "name": "ipython",
    "version": 3
   },
   "file_extension": ".py",
   "mimetype": "text/x-python",
   "name": "python",
   "nbconvert_exporter": "python",
   "pygments_lexer": "ipython3",
   "version": "3.10.9"
  }
 },
 "nbformat": 4,
 "nbformat_minor": 5
}
